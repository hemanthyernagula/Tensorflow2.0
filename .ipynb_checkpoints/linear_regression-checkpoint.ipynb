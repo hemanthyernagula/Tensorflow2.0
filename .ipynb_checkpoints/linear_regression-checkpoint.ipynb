{
 "cells": [
  {
   "cell_type": "markdown",
   "metadata": {},
   "source": [
    "# Tensorflow 2.0"
   ]
  },
  {
   "cell_type": "code",
   "execution_count": 39,
   "metadata": {},
   "outputs": [],
   "source": [
    "# !pip install sklearn"
   ]
  },
  {
   "cell_type": "code",
   "execution_count": 40,
   "metadata": {},
   "outputs": [],
   "source": [
    "import tensorflow as tf\n",
    "import pandas as pd\n",
    "import numpy as np\n",
    "import matplotlib.pyplot as plt"
   ]
  },
  {
   "cell_type": "code",
   "execution_count": 41,
   "metadata": {},
   "outputs": [
    {
     "data": {
      "text/plain": [
       "'/device:GPU:0'"
      ]
     },
     "execution_count": 41,
     "metadata": {},
     "output_type": "execute_result"
    }
   ],
   "source": [
    "tf.test.gpu_device_name()"
   ]
  },
  {
   "cell_type": "markdown",
   "metadata": {},
   "source": [
    "## Linear Regression (w*x + b)\n",
    "<strong> Implementing Linear Regression with Tensorflow2.0</strong>"
   ]
  },
  {
   "cell_type": "code",
   "execution_count": 10,
   "metadata": {},
   "outputs": [
    {
     "data": {
      "text/html": [
       "<div>\n",
       "<style scoped>\n",
       "    .dataframe tbody tr th:only-of-type {\n",
       "        vertical-align: middle;\n",
       "    }\n",
       "\n",
       "    .dataframe tbody tr th {\n",
       "        vertical-align: top;\n",
       "    }\n",
       "\n",
       "    .dataframe thead th {\n",
       "        text-align: right;\n",
       "    }\n",
       "</style>\n",
       "<table border=\"1\" class=\"dataframe\">\n",
       "  <thead>\n",
       "    <tr style=\"text-align: right;\">\n",
       "      <th></th>\n",
       "      <th>SAT</th>\n",
       "      <th>GPA</th>\n",
       "    </tr>\n",
       "  </thead>\n",
       "  <tbody>\n",
       "    <tr>\n",
       "      <th>0</th>\n",
       "      <td>1714</td>\n",
       "      <td>2.40</td>\n",
       "    </tr>\n",
       "    <tr>\n",
       "      <th>1</th>\n",
       "      <td>1664</td>\n",
       "      <td>2.52</td>\n",
       "    </tr>\n",
       "    <tr>\n",
       "      <th>2</th>\n",
       "      <td>1760</td>\n",
       "      <td>2.54</td>\n",
       "    </tr>\n",
       "    <tr>\n",
       "      <th>3</th>\n",
       "      <td>1685</td>\n",
       "      <td>2.74</td>\n",
       "    </tr>\n",
       "    <tr>\n",
       "      <th>4</th>\n",
       "      <td>1693</td>\n",
       "      <td>2.83</td>\n",
       "    </tr>\n",
       "  </tbody>\n",
       "</table>\n",
       "</div>"
      ],
      "text/plain": [
       "    SAT   GPA\n",
       "0  1714  2.40\n",
       "1  1664  2.52\n",
       "2  1760  2.54\n",
       "3  1685  2.74\n",
       "4  1693  2.83"
      ]
     },
     "execution_count": 10,
     "metadata": {},
     "output_type": "execute_result"
    }
   ],
   "source": [
    "data = pd.read_csv('data/linear_regression.csv')\n",
    "data.head()"
   ]
  },
  {
   "cell_type": "code",
   "execution_count": null,
   "metadata": {},
   "outputs": [],
   "source": []
  },
  {
   "cell_type": "code",
   "execution_count": 43,
   "metadata": {},
   "outputs": [],
   "source": [
    "xtrain = data.SAT\n",
    "ytrain = data.GPA"
   ]
  },
  {
   "cell_type": "code",
   "execution_count": 57,
   "metadata": {},
   "outputs": [],
   "source": [
    "w = tf.Variable(np.random.randn(),name='weight')\n",
    "b = tf.Variable(np.random.randn(),name='intercept')"
   ]
  },
  {
   "cell_type": "code",
   "execution_count": 58,
   "metadata": {},
   "outputs": [],
   "source": [
    "def linear_regression(x):\n",
    "    \n",
    "    return w * x + b"
   ]
  },
  {
   "cell_type": "code",
   "execution_count": 59,
   "metadata": {},
   "outputs": [],
   "source": [
    "def lossfun(actual,pred):\n",
    "    return tf.reduce_sum(tf.pow(pred - actual,2)) / (xtrain.shape[0])\n",
    "\n",
    "optimizer = tf.optimizers.Adam(0.01)"
   ]
  },
  {
   "cell_type": "code",
   "execution_count": 60,
   "metadata": {},
   "outputs": [],
   "source": [
    "def optimize():\n",
    "    \n",
    "    with tf.GradientTape() as g:\n",
    "        pred = linear_regression(xtrain)\n",
    "        loss = lossfun(ytrain,pred)\n",
    "    grad = g.gradient(loss,[w,b])\n",
    "    \n",
    "    optimizer.apply_gradients(zip(grad,[w,b]))"
   ]
  },
  {
   "cell_type": "code",
   "execution_count": 61,
   "metadata": {},
   "outputs": [],
   "source": [
    "# %reload_ext tensorboard\n",
    "# %tensorboard --logdir logs/training/"
   ]
  },
  {
   "cell_type": "code",
   "execution_count": 62,
   "metadata": {},
   "outputs": [
    {
     "name": "stdout",
     "output_type": "stream",
     "text": [
      "Epoch 0 loss 5064340.0\n",
      "Epoch 50 loss 1910387.75\n",
      "Epoch 100 loss 537098.25\n",
      "Epoch 150 loss 108765.4765625\n",
      "Epoch 200 loss 15315.23828125\n",
      "Epoch 250 loss 1464.7484130859375\n",
      "Epoch 300 loss 92.64915466308594\n",
      "Epoch 350 loss 3.743489980697632\n",
      "Epoch 400 loss 0.1302185356616974\n",
      "Epoch 450 loss 0.04515611380338669\n",
      "Epoch 500 loss 0.04417206719517708\n",
      "Epoch 550 loss 0.04416856914758682\n",
      "Epoch 600 loss 0.04416856914758682\n",
      "Epoch 650 loss 0.044168561697006226\n",
      "Epoch 700 loss 0.04416855797171593\n",
      "Epoch 750 loss 0.04416855052113533\n",
      "Epoch 800 loss 0.04416854679584503\n",
      "Epoch 850 loss 0.04416854307055473\n",
      "Epoch 900 loss 0.044168539345264435\n",
      "Epoch 950 loss 0.04416852071881294\n"
     ]
    }
   ],
   "source": [
    "for i in range(1000):\n",
    "    \n",
    "    logs = tf.summary.create_file_writer('/logs/training/')\n",
    "    with logs.as_default():\n",
    "        optimize()\n",
    "        if i % 50 == 0:\n",
    "            ypred = linear_regression(xtrain)\n",
    "            loss  = lossfun(ytrain,ypred)\n",
    "            print('Epoch {} loss {}'.format(i,loss))\n",
    "            tf.summary.scalar('Loss',loss,step=i)"
   ]
  },
  {
   "cell_type": "code",
   "execution_count": 63,
   "metadata": {},
   "outputs": [
    {
     "name": "stdout",
     "output_type": "stream",
     "text": [
      "X : 1714 Y : 2.40 Y^ : 3.074080467224121\n",
      "X : 1664 Y : 2.52 Y^ : 2.977144241333008\n",
      "X : 1760 Y : 2.54 Y^ : 3.163261890411377\n",
      "X : 1685 Y : 2.74 Y^ : 3.017857313156128\n",
      "X : 1693 Y : 2.83 Y^ : 3.033367156982422\n",
      "X : 1670 Y : 2.91 Y^ : 2.988776445388794\n",
      "X : 1764 Y : 3.00 Y^ : 3.1710166931152344\n",
      "X : 1764 Y : 3.00 Y^ : 3.1710166931152344\n",
      "X : 1792 Y : 3.01 Y^ : 3.2253010272979736\n",
      "X : 1850 Y : 3.01 Y^ : 3.337747097015381\n"
     ]
    }
   ],
   "source": [
    "for i in range(10):\n",
    "    print('X : {} Y : {:.2f} Y^ : {}'.format(xtrain[i],ytrain[i],linear_regression(xtrain[i])))"
   ]
  },
  {
   "cell_type": "code",
   "execution_count": 64,
   "metadata": {},
   "outputs": [
    {
     "data": {
      "image/png": "[encoded data removed]",
      "text/plain": [
       "<Figure size 432x288 with 1 Axes>"
      ]
     },
     "metadata": {
      "needs_background": "light"
     },
     "output_type": "display_data"
    }
   ],
   "source": [
    "plt.plot(xtrain,ytrain,'ro',label='Data')\n",
    "plt.plot(xtrain,w*xtrain +b,label='Best Line')\n",
    "plt.legend()\n",
    "plt.show()\n"
   ]
  },
  {
   "cell_type": "markdown",
   "metadata": {},
   "source": [
    "## Putting all together into a class"
   ]
  },
  {
   "cell_type": "code",
   "execution_count": 67,
   "metadata": {},
   "outputs": [],
   "source": [
    "class LinearRegression:\n",
    "    def __init__(self,callback=False,\n",
    "                 optimizer = tf.optimizers.Adam(0.01),\n",
    "                 epochs = 10,verbose=0):\n",
    "        \n",
    "        self.w = tf.Variable(np.random.randn(),name='Weights')\n",
    "        self.b = tf.Variable(np.random.randn(),name='Intercept')\n",
    "        self.callback  =  callback\n",
    "        self.optimizer = optimizer\n",
    "        self.epochs    = epochs\n",
    "        self.verbose   = verbose\n",
    "    def linear_regression(self,x):\n",
    "        return self.w * x + self.b\n",
    "    def loss_fun(self,actual,pred):\n",
    "        return tf.reduce_sum(tf.pow(pred - actual,2)) / actual.shape[0]\n",
    "    def optimize(self,x,y):\n",
    "        \n",
    "        with tf.GradientTape() as g:\n",
    "            pred = self.linear_regression(x)\n",
    "            loss = self.loss_fun(y,pred)\n",
    "            \n",
    "        grad = g.gradient(loss,[self.w,self.b])\n",
    "        self.optimizer.apply_gradients(zip(grad,[self.w,self.b]))\n",
    "        \n",
    "    def fit(self,x,y):\n",
    "        \n",
    "        for i in range(self.epochs):\n",
    "            self.optimize(x,y)\n",
    "            \n",
    "            space = len(str(self.epochs))\n",
    "            if self.verbose:\n",
    "                if i % self.verbose == 0:\n",
    "                    pred = self.linear_regression(x)\n",
    "                    loss = self.loss_fun(y,pred)\n",
    "                    print('Epoch :',' '*(space - len(str(i))),end=\" \")\n",
    "                    print('{} | Loss : {}'.format(i,loss))\n",
    "                    \n",
    "    def predict(self,x):\n",
    "        return self.w * x + self.b\n",
    "                        "
   ]
  },
  {
   "cell_type": "code",
   "execution_count": 68,
   "metadata": {},
   "outputs": [
    {
     "name": "stdout",
     "output_type": "stream",
     "text": [
      "Shape of train: (23,)\n",
      "Shape of test: (6,)\n"
     ]
    },
    {
     "data": {
      "text/plain": [
       "(84, 2)"
      ]
     },
     "execution_count": 68,
     "metadata": {},
     "output_type": "execute_result"
    }
   ],
   "source": [
    "from sklearn.model_selection import train_test_split\n",
    "xtrain,xtest,ytrain,ytest = train_test_split(xtrain,ytrain,test_size=0.2)\n",
    "\n",
    "\n",
    "print('Shape of train:',xtrain.shape)\n",
    "print('Shape of test:',xtest.shape)\n",
    "data.shape"
   ]
  },
  {
   "cell_type": "code",
   "execution_count": 71,
   "metadata": {},
   "outputs": [],
   "source": [
    "optimize = tf.optimizers.Adam(0.01)\n",
    "linear = LinearRegression(verbose=100,epochs=1000,optimizer=optimize)"
   ]
  },
  {
   "cell_type": "code",
   "execution_count": 72,
   "metadata": {
    "scrolled": true
   },
   "outputs": [
    {
     "name": "stdout",
     "output_type": "stream",
     "text": [
      "Epoch :     0 | Loss : 16969236.0\n",
      "Epoch :   100 | Loss : 5882811.0\n",
      "Epoch :   200 | Loss : 1504860.125\n",
      "Epoch :   300 | Loss : 270671.09375\n",
      "Epoch :   400 | Loss : 33290.08203125\n",
      "Epoch :   500 | Loss : 2772.151611328125\n",
      "Epoch :   600 | Loss : 155.0931396484375\n",
      "Epoch :   700 | Loss : 5.7894392013549805\n",
      "Epoch :   800 | Loss : 0.1842491775751114\n",
      "Epoch :   900 | Loss : 0.04855004698038101\n"
     ]
    }
   ],
   "source": [
    "linear.fit(xtrain,ytrain)"
   ]
  },
  {
   "cell_type": "code",
   "execution_count": 73,
   "metadata": {},
   "outputs": [
    {
     "name": "stdout",
     "output_type": "stream",
     "text": [
      "Train Loss 0.04649496\n",
      "Test Loss 0.03218988\n"
     ]
    }
   ],
   "source": [
    "print('Train Loss',linear.loss_fun(ytrain,linear.predict(xtrain)).numpy())\n",
    "print('Test Loss',linear.loss_fun(ytest,linear.predict(xtest)).numpy())"
   ]
  },
  {
   "cell_type": "code",
   "execution_count": 74,
   "metadata": {},
   "outputs": [
    {
     "name": "stdout",
     "output_type": "stream",
     "text": [
      "X : 1979 Y : 3.41 Y^ : 3.7484898567199707\n",
      "X : 2050 Y : 3.81 Y^ : 3.996699810028076\n",
      "X : 1821 Y : 3.28 Y^ : 3.1961350440979004\n",
      "X : 1764 Y : 3.00 Y^ : 2.996868133544922\n",
      "X : 1735 Y : 3.08 Y^ : 2.895486354827881\n"
     ]
    }
   ],
   "source": [
    "pred = linear.predict(xtest).numpy()\n",
    "for i in range(5):\n",
    "    print('X : {} Y : {:.2f} Y^ : {}'.format(xtest.iloc[i], ytest.iloc[i],pred[i] ))"
   ]
  },
  {
   "cell_type": "code",
   "execution_count": null,
   "metadata": {},
   "outputs": [],
   "source": []
  },
  {
   "cell_type": "code",
   "execution_count": null,
   "metadata": {},
   "outputs": [],
   "source": []
  }
 ],
 "metadata": {
  "kernelspec": {
   "display_name": "Python 3",
   "language": "python",
   "name": "python3"
  },
  "language_info": {
   "codemirror_mode": {
    "name": "ipython",
    "version": 3
   },
   "file_extension": ".py",
   "mimetype": "text/x-python",
   "name": "python",
   "nbconvert_exporter": "python",
   "pygments_lexer": "ipython3",
   "version": "3.6.9"
  }
 },
 "nbformat": 4,
 "nbformat_minor": 4
}
